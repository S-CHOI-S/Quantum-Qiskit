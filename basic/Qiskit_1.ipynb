{
  "nbformat": 4,
  "nbformat_minor": 0,
  "metadata": {
    "colab": {
      "provenance": []
    },
    "kernelspec": {
      "name": "python3",
      "display_name": "Python 3"
    },
    "language_info": {
      "name": "python"
    }
  },
  "cells": [
    {
      "cell_type": "markdown",
      "source": [
        "# Qiskit 설치 (colab에서는 새션이 새로 시작될 때, 코랩에서 제공하는 기본 패키지가 아니면, 새로 설치해야 함)!"
      ],
      "metadata": {
        "id": "pN7oG7Yvl--M"
      }
    },
    {
      "cell_type": "code",
      "execution_count": 2,
      "metadata": {
        "id": "eFhsSbjln-2y"
      },
      "outputs": [],
      "source": [
        "from google.colab import output\n",
        "\n",
        "!pip install qiskit\n",
        "!pip install qiskit-ibm-runtime\n",
        "!pip install qiskit[visualization]\n",
        "\n",
        "output.clear()"
      ]
    },
    {
      "cell_type": "markdown",
      "source": [
        "## 텐서곱을 활용한 멀티큐빗 정의"
      ],
      "metadata": {
        "id": "7fBbxao_onlc"
      }
    },
    {
      "cell_type": "code",
      "source": [
        "from qiskit.quantum_info import Statevector, Operator\n",
        "\n",
        "zero = Statevector([1,0])\n",
        "one = Statevector([0,1])\n",
        "zero.tensor(one).draw(\"latex\")"
      ],
      "metadata": {
        "colab": {
          "base_uri": "https://localhost:8080/",
          "height": 37
        },
        "id": "CxrkbJQGN7r_",
        "outputId": "99558a97-4ea1-42df-87e7-03703ffb2d5f"
      },
      "execution_count": 5,
      "outputs": [
        {
          "output_type": "execute_result",
          "data": {
            "text/plain": [
              "<IPython.core.display.Latex object>"
            ],
            "text/latex": "$$ |01\\rangle$$"
          },
          "metadata": {},
          "execution_count": 5
        }
      ]
    },
    {
      "cell_type": "markdown",
      "source": [
        "### Colab에서 기본적으로 정의된 상태벡터를 활용"
      ],
      "metadata": {
        "id": "BhUQoEmnOF3D"
      }
    },
    {
      "cell_type": "code",
      "source": [
        "zero = Statevector.from_label(\"0\")\n",
        "one = Statevector.from_label(\"1\")\n",
        "zero.tensor(one).draw(\"latex\")"
      ],
      "metadata": {
        "id": "8mpfCag7oKqu",
        "colab": {
          "base_uri": "https://localhost:8080/",
          "height": 37
        },
        "outputId": "c64c76a4-94f6-4e9c-f291-fcb59bff6527"
      },
      "execution_count": 6,
      "outputs": [
        {
          "output_type": "execute_result",
          "data": {
            "text/plain": [
              "<IPython.core.display.Latex object>"
            ],
            "text/latex": "$$ |01\\rangle$$"
          },
          "metadata": {},
          "execution_count": 6
        }
      ]
    },
    {
      "cell_type": "markdown",
      "source": [
        "### 아래 두 상태벡터들을 텐서곱:\n",
        "1. $|+ \\rangle = \\left(\\frac{1}{\\sqrt{2}}, \\frac{1}{\\sqrt{2}}\\right) $ \\\\\n",
        "2. $|v \\rangle = \\left(\\frac{1}{\\sqrt{2}},  \\frac{i}{\\sqrt{2}}\\right) $ \\\\\n",
        "\n",
        "$|+\\rangle \\otimes |v\\rangle = \\left(\\frac{1}{\\sqrt{2}}, \\frac{1}{\\sqrt{2}}\\right) \\otimes \\left(\\frac{1}{\\sqrt{2}},  \\frac{i}{\\sqrt{2}}\\right) =\n",
        "\\left(\\frac{1}{\\sqrt{2}} |0\\rangle + \\frac{1}{\\sqrt{2}}|1\\rangle\\right)\\otimes\n",
        "\\left(\\frac{1}{\\sqrt{2}} |0\\rangle + \\frac{i}{\\sqrt{2}}|1\\rangle\\right)\n",
        "= \\frac{1}{2}|00\\rangle + \\frac{i}{2}|01\\rangle + \\frac{1}{2}|10\\rangle + \\frac{i}{2}|11\\rangle\n",
        "$"
      ],
      "metadata": {
        "id": "S1Qwah1ryUF_"
      }
    },
    {
      "cell_type": "code",
      "source": [
        "from numpy import sqrt\n",
        "\n",
        "plus = Statevector.from_label(\"+\")\n",
        "v = Statevector([1/sqrt(2), 1j/sqrt(2)])\n",
        "\n",
        "psi=plus.tensor(v)\n",
        "psi.draw(\"latex\")"
      ],
      "metadata": {
        "id": "I9TuSfutoaLj",
        "colab": {
          "base_uri": "https://localhost:8080/",
          "height": 38
        },
        "outputId": "f760960e-b60f-44d3-ab9a-e7690ab530d2"
      },
      "execution_count": 17,
      "outputs": [
        {
          "output_type": "execute_result",
          "data": {
            "text/plain": [
              "<IPython.core.display.Latex object>"
            ],
            "text/latex": "$$\\frac{1}{2} |00\\rangle+\\frac{i}{2} |01\\rangle+\\frac{1}{2} |10\\rangle+\\frac{i}{2} |11\\rangle$$"
          },
          "metadata": {},
          "execution_count": 17
        }
      ]
    },
    {
      "cell_type": "markdown",
      "source": [
        "## 멀티 큐빗에 연산하기\n",
        "두 개의 단일 큐빗 연산자 $U$와 $V$가 있다. 멀티큐빗 $|\\Psi\\rangle = |\\psi_1\\rangle \\otimes |\\psi_2\\rangle $ 로 주어질 때, \\\\\n",
        "$(U\\otimes V)|\\Psi\\rangle = (U\\otimes V)\\left(|\\psi_1\\rangle \\otimes |\\psi_2\\rangle\\right) = U|\\psi_1\\rangle \\otimes V|\\psi_2\\rangle $"
      ],
      "metadata": {
        "id": "Yk5MW-Y1zuz0"
      }
    },
    {
      "cell_type": "markdown",
      "source": [
        "### 예를 들어, 첫번째 큐빗에는 $I=\\begin{pmatrix} 1 & 0 \\\\ 0 & 1 \\end{pmatrix}$ 을 연산하고, 두번째 큐빗에는 $X=\\begin{pmatrix} 0 & 1 \\\\ 1 & 0 \\end{pmatrix}$ 을 연산하는 $XI\\equiv X\\otimes I$ 를 아래와 같이 정의한다."
      ],
      "metadata": {
        "id": "LwEFkOhfTo_s"
      }
    },
    {
      "cell_type": "code",
      "source": [
        "X = Operator([[0, 1], [1, 0]])\n",
        "\n",
        "I = Operator([[1, 0], [0, 1]])\n",
        "\n",
        "XI=X.tensor(I)\n",
        "XI"
      ],
      "metadata": {
        "id": "DMj23JwgyvVA",
        "colab": {
          "base_uri": "https://localhost:8080/"
        },
        "outputId": "405ae2e2-0760-4098-cfd6-354a737f40a3"
      },
      "execution_count": 31,
      "outputs": [
        {
          "output_type": "stream",
          "name": "stdout",
          "text": [
            "Operator([[0.+0.j, 0.+0.j, 1.+0.j, 0.+0.j],\n",
            "          [0.+0.j, 0.+0.j, 0.+0.j, 1.+0.j],\n",
            "          [1.+0.j, 0.+0.j, 0.+0.j, 0.+0.j],\n",
            "          [0.+0.j, 1.+0.j, 0.+0.j, 0.+0.j]],\n",
            "         input_dims=(2, 2), output_dims=(2, 2))\n"
          ]
        }
      ]
    },
    {
      "cell_type": "markdown",
      "source": [
        " 1. $|q_1 \\rangle = \\frac{1}{\\sqrt{3}}|0\\rangle + \\frac{2}{\\sqrt{3}}|1\\rangle $\n",
        " 2. $|q_2 \\rangle = |0\\rangle $\n",
        "\n",
        " 일 때, $|\\psi\\rangle = |q_2\\rangle \\otimes |q_1\\rangle = \\frac{1}{\\sqrt{3}}|00\\rangle\n",
        " + \\frac{2}{\\sqrt{3}}|01\\rangle $ 인 경우,  "
      ],
      "metadata": {
        "id": "YwMyexZPWjiv"
      }
    },
    {
      "cell_type": "code",
      "source": [
        "q1 = Statevector([1/sqrt(3) , sqrt(2)/sqrt(3)])\n",
        "q2 = Statevector([1,0 ])\n",
        "\n",
        "psi=q2.tensor(q1)\n",
        "psi.draw(\"latex\")"
      ],
      "metadata": {
        "id": "CkOISsf-1feQ",
        "colab": {
          "base_uri": "https://localhost:8080/",
          "height": 41
        },
        "outputId": "486530b8-02b4-4bcc-c767-77062ad43775"
      },
      "execution_count": 37,
      "outputs": [
        {
          "output_type": "execute_result",
          "data": {
            "text/plain": [
              "<IPython.core.display.Latex object>"
            ],
            "text/latex": "$$\\frac{\\sqrt{3}}{3} |00\\rangle+\\frac{\\sqrt{6}}{3} |01\\rangle$$"
          },
          "metadata": {},
          "execution_count": 37
        }
      ]
    },
    {
      "cell_type": "markdown",
      "source": [
        "$(X\\otimes I)|\\psi\\rangle = X|q_2\\rangle \\otimes I|q_1\\rangle = |1\\rangle \\otimes \\left(\\frac{1}{\\sqrt{3}}|0\\rangle + \\frac{2}{\\sqrt{3}}|1\\rangle \\right) = \\frac{1}{\\sqrt{3}}|10\\rangle + \\frac{2}{\\sqrt{3}}|11\\rangle$"
      ],
      "metadata": {
        "id": "fN24YgZEXGSO"
      }
    },
    {
      "cell_type": "code",
      "source": [
        "psi.evolve(XI).draw(\"latex\")"
      ],
      "metadata": {
        "colab": {
          "base_uri": "https://localhost:8080/",
          "height": 41
        },
        "id": "wY-wYq1SWd2B",
        "outputId": "5fe6470b-805a-4445-d13d-98137af58ae4"
      },
      "execution_count": 38,
      "outputs": [
        {
          "output_type": "execute_result",
          "data": {
            "text/plain": [
              "<IPython.core.display.Latex object>"
            ],
            "text/latex": "$$\\frac{\\sqrt{3}}{3} |10\\rangle+\\frac{\\sqrt{6}}{3} |11\\rangle$$"
          },
          "metadata": {},
          "execution_count": 38
        }
      ]
    },
    {
      "cell_type": "markdown",
      "source": [
        "## 위를 양자회로 (QuantumCircuit) 를 활용해 구현하면"
      ],
      "metadata": {
        "id": "hdGS8KAy6Zt5"
      }
    },
    {
      "cell_type": "code",
      "source": [
        "from qiskit import QuantumCircuit\n",
        "\n",
        "circuit = QuantumCircuit(2)\n",
        "\n",
        "circuit.i(0)\n",
        "circuit.x(1)\n",
        "\n",
        "circuit.draw(\"mpl\")"
      ],
      "metadata": {
        "id": "ubaXAuJt1xrQ",
        "colab": {
          "base_uri": "https://localhost:8080/",
          "height": 245
        },
        "outputId": "20a1485d-34da-41e7-8544-1f45c1b041b8"
      },
      "execution_count": 33,
      "outputs": [
        {
          "output_type": "stream",
          "name": "stderr",
          "text": [
            "<ipython-input-33-d320355c1f3a>:5: DeprecationWarning: The method ``qiskit.circuit.quantumcircuit.QuantumCircuit.i()`` is deprecated as of qiskit 0.45.0. It will be removed no earlier than 3 months after the release date. Use QuantumCircuit.id as direct replacement.\n",
            "  circuit.i(0)\n"
          ]
        },
        {
          "output_type": "execute_result",
          "data": {
            "text/plain": [
              "<Figure size 203.683x200.667 with 1 Axes>"
            ],
            "image/png": "[encoded data removed]"
          },
          "metadata": {},
          "execution_count": 33
        }
      ]
    },
    {
      "cell_type": "code",
      "source": [
        "psi.evolve(circuit).draw(\"latex\")"
      ],
      "metadata": {
        "id": "pe_XB-eh6rF-",
        "colab": {
          "base_uri": "https://localhost:8080/",
          "height": 41
        },
        "outputId": "4130b3bf-1c3d-41dd-cc83-957e1928767d"
      },
      "execution_count": 35,
      "outputs": [
        {
          "output_type": "execute_result",
          "data": {
            "text/plain": [
              "<IPython.core.display.Latex object>"
            ],
            "text/latex": "$$\\frac{\\sqrt{3}}{3} |10\\rangle+\\frac{\\sqrt{6}}{3} |11\\rangle$$"
          },
          "metadata": {},
          "execution_count": 35
        }
      ]
    },
    {
      "cell_type": "markdown",
      "source": [
        "##  Quantum Circuit를 활용하여, entangle state (벨상태) $|\\Phi^+\\rangle = \\frac{1}{\\sqrt{2}}\\left(|00\\rangle + |11\\rangle \\right)$ 구현 및 측정"
      ],
      "metadata": {
        "id": "i7TqxCCd8jvD"
      }
    },
    {
      "cell_type": "code",
      "source": [
        "from qiskit import QuantumCircuit, QuantumRegister, ClassicalRegister\n",
        "\n",
        "q0 = QuantumRegister(1, \"q0\")\n",
        "q1 = QuantumRegister(1, \"q1\")\n",
        "c0 = ClassicalRegister(1, \"c0\")\n",
        "c1 = ClassicalRegister(1, \"c1\")\n",
        "\n",
        "circuit = QuantumCircuit(q0,q1, c0, c1)\n",
        "circuit.h(q0)\n",
        "circuit.cx(q0, q1)"
      ],
      "metadata": {
        "id": "IKMIN6UG6-Ff",
        "colab": {
          "base_uri": "https://localhost:8080/"
        },
        "outputId": "594a6538-9bee-4e6b-9fd4-75603dded70d"
      },
      "execution_count": 65,
      "outputs": [
        {
          "output_type": "execute_result",
          "data": {
            "text/plain": [
              "<qiskit.circuit.instructionset.InstructionSet at 0x7c5651b0ccd0>"
            ]
          },
          "metadata": {},
          "execution_count": 65
        }
      ]
    },
    {
      "cell_type": "code",
      "source": [
        "psi1 = Statevector([1 , 0])\n",
        "psi2 = Statevector([1 , 0 ])\n",
        "\n",
        "psi=psi2.tensor(psi1)\n",
        "psi.evolve(circuit).draw(\"latex\")"
      ],
      "metadata": {
        "colab": {
          "base_uri": "https://localhost:8080/",
          "height": 41
        },
        "id": "NjR4V8d3iN1w",
        "outputId": "3739cf3a-0b60-4843-997c-8e43b3e13d3b"
      },
      "execution_count": 67,
      "outputs": [
        {
          "output_type": "execute_result",
          "data": {
            "text/plain": [
              "<IPython.core.display.Latex object>"
            ],
            "text/latex": "$$\\frac{\\sqrt{2}}{2} |00\\rangle+\\frac{\\sqrt{2}}{2} |11\\rangle$$"
          },
          "metadata": {},
          "execution_count": 67
        }
      ]
    },
    {
      "cell_type": "code",
      "source": [
        "circuit.measure(q0, c0)\n",
        "circuit.measure(q1, c1)\n",
        "\n",
        "display(circuit.draw(\"mpl\"))"
      ],
      "metadata": {
        "colab": {
          "base_uri": "https://localhost:8080/",
          "height": 374
        },
        "id": "NInw1We5iJkP",
        "outputId": "33998471-fb36-4b38-e74a-accb4cdb399f"
      },
      "execution_count": 68,
      "outputs": [
        {
          "output_type": "stream",
          "name": "stderr",
          "text": [
            "/usr/local/lib/python3.10/dist-packages/qiskit/visualization/circuit/matplotlib.py:266: FutureWarning: The default matplotlib drawer scheme will be changed to \"iqp\" in a following release. To silence this warning, specify the current default explicitly as style=\"clifford\", or the new default as style=\"iqp\".\n",
            "  self._style, def_font_ratio = load_style(self._style)\n"
          ]
        },
        {
          "output_type": "display_data",
          "data": {
            "text/plain": [
              "<Figure size 454.517x367.889 with 1 Axes>"
            ],
            "image/png": "[encoded data removed]"
          },
          "metadata": {}
        }
      ]
    },
    {
      "cell_type": "code",
      "source": [
        "qreg_q= QuantumRegister(2, 'q')\n",
        "creg_c = ClassicalRegister(2, 'c')\n",
        "circuit = QuantumCircuit(qreg_q, creg_c)\n",
        "\n",
        "circuit.h(qreg_q[0])\n",
        "circuit.cx(qreg_q[0], qreg_q[1])\n",
        "circuit.measure(qreg_q[0], creg_c[0])\n",
        "circuit.measure(qreg_q[1], creg_c[1])\n",
        "\n",
        "display(circuit.draw(\"mpl\"))"
      ],
      "metadata": {
        "colab": {
          "base_uri": "https://localhost:8080/",
          "height": 309
        },
        "id": "t9muNytcg7OQ",
        "outputId": "8dcce341-27c4-44d3-923b-7655ee937387"
      },
      "execution_count": 74,
      "outputs": [
        {
          "output_type": "stream",
          "name": "stderr",
          "text": [
            "/usr/local/lib/python3.10/dist-packages/qiskit/visualization/circuit/matplotlib.py:266: FutureWarning: The default matplotlib drawer scheme will be changed to \"iqp\" in a following release. To silence this warning, specify the current default explicitly as style=\"clifford\", or the new default as style=\"iqp\".\n",
            "  self._style, def_font_ratio = load_style(self._style)\n"
          ]
        },
        {
          "output_type": "display_data",
          "data": {
            "text/plain": [
              "<Figure size 454.517x284.278 with 1 Axes>"
            ],
            "image/png": "[encoded data removed]"
          },
          "metadata": {}
        }
      ]
    },
    {
      "cell_type": "markdown",
      "source": [
        "## 위 회로를 Sampler를 활용하여 측정을 예측"
      ],
      "metadata": {
        "id": "I_nA6H3e9q5C"
      }
    },
    {
      "cell_type": "code",
      "source": [
        "from qiskit.primitives import Sampler\n",
        "from qiskit.visualization import plot_histogram\n",
        "\n",
        "sampler = Sampler()\n",
        "results = sampler.run(circuit).result()\n",
        "statistics = results.quasi_dists[0].binary_probabilities()\n",
        "display(plot_histogram(statistics))"
      ],
      "metadata": {
        "id": "OPX_mN2z8Y30",
        "colab": {
          "base_uri": "https://localhost:8080/",
          "height": 461
        },
        "outputId": "4ee4983b-276a-45a3-cd53-4f8990a116cc"
      },
      "execution_count": 78,
      "outputs": [
        {
          "output_type": "display_data",
          "data": {
            "text/plain": [
              "<Figure size 700x500 with 1 Axes>"
            ],
            "image/png": "[encoded data removed]"
          },
          "metadata": {}
        }
      ]
    },
    {
      "cell_type": "markdown",
      "source": [
        "## 위 회로를 IBM Quantum Computer simulator (Aersimulator)를 활용하여 실제 구현"
      ],
      "metadata": {
        "id": "r-xWoDlK-6yW"
      }
    },
    {
      "cell_type": "code",
      "source": [
        "!pip install qiskit-aer\n",
        "\n",
        "output.clear()"
      ],
      "metadata": {
        "id": "qHrpgt7veNtl"
      },
      "execution_count": 47,
      "outputs": []
    },
    {
      "cell_type": "code",
      "source": [
        "from qiskit_aer import AerSimulator\n",
        "\n",
        "result = AerSimulator().run(circuit, shots=10000).result()\n",
        "statistics = result.get_counts()\n",
        "display(plot_histogram(statistics))"
      ],
      "metadata": {
        "id": "rJndXnF-8gD-",
        "colab": {
          "base_uri": "https://localhost:8080/",
          "height": 461
        },
        "outputId": "85b3afb4-4b33-42f7-b059-c2ec460c3e1d"
      },
      "execution_count": 76,
      "outputs": [
        {
          "output_type": "display_data",
          "data": {
            "text/plain": [
              "<Figure size 700x500 with 1 Axes>"
            ],
            "image/png": "[encoded data removed]"
          },
          "metadata": {}
        }
      ]
    },
    {
      "cell_type": "markdown",
      "source": [
        "# Homework"
      ],
      "metadata": {
        "id": "T4yfGE8dgPGn"
      }
    },
    {
      "cell_type": "markdown",
      "source": [
        "## Q1 학번과 이름을 출력하여라. (2점)"
      ],
      "metadata": {
        "id": "z0irHXg0gQ02"
      }
    },
    {
      "cell_type": "code",
      "source": [
        "print(\"학번=         \", \"이름 =        \")"
      ],
      "metadata": {
        "colab": {
          "base_uri": "https://localhost:8080/"
        },
        "id": "AQ-mYBkwgHo1",
        "outputId": "e59e866f-b857-409d-89bc-eaa0ce4dcd75"
      },
      "execution_count": 55,
      "outputs": [
        {
          "output_type": "stream",
          "name": "stdout",
          "text": [
            "학번=          이름 =        \n"
          ]
        }
      ]
    },
    {
      "cell_type": "markdown",
      "source": [
        "### Q2 아래는 Quantum Circuit 을 활용하여 벨 상태 $|\\Psi^-\\rangle = \\frac{1}{\\sqrt{2}}\\left(-|01\\rangle + |10\\rangle\\right)$ 를 만드는 회로이다.  회로를 완성시키시오."
      ],
      "metadata": {
        "id": "E1fXTrcmj6yd"
      }
    },
    {
      "cell_type": "code",
      "source": [
        "qreg_q= QuantumRegister(2, 'q')\n",
        "creg_c = ClassicalRegister(2, 'c')\n",
        "circuit = QuantumCircuit(qreg_q, creg_c)\n",
        "\n",
        "circuit = QuantumCircuit(qreg_q, creg_c)\n",
        "\n",
        "### 중간 내용을 채울 것\n",
        "\n",
        "\n",
        "\n",
        "###\n",
        "display(circuit.draw(\"mpl\"))"
      ],
      "metadata": {
        "colab": {
          "base_uri": "https://localhost:8080/",
          "height": 255
        },
        "id": "IIvmVzx1gLo2",
        "outputId": "349a1621-a1b5-4bed-bf65-aacf57655171"
      },
      "execution_count": 80,
      "outputs": [
        {
          "output_type": "display_data",
          "data": {
            "text/plain": [
              "<Figure size 370.906x284.278 with 1 Axes>"
            ],
            "image/png": "[encoded data removed]"
          },
          "metadata": {}
        }
      ]
    },
    {
      "cell_type": "markdown",
      "source": [
        "### Q3 : 위 회로를 $|00\\rangle$ 에 적용하면, 상태가 $|\\Psi^-\\rangle$ 이 나오는지 결과로 확인하여라."
      ],
      "metadata": {
        "id": "hTIMmNpGlR5f"
      }
    },
    {
      "cell_type": "code",
      "source": [
        "psi1 = Statevector([1 , 0])\n",
        "psi2 = Statevector([1 , 0 ])\n",
        "\n",
        "psi=psi2.tensor(psi1)\n",
        "psi.evolve(circuit).draw(\"latex\")"
      ],
      "metadata": {
        "id": "Z49x8U7qhg3A"
      },
      "execution_count": null,
      "outputs": []
    },
    {
      "cell_type": "markdown",
      "source": [
        "### Q4 : Aersimulator를 사용하여, shots (반복)을 천번 (1,000) 실시하여, 결과값을 히스토그램으로 표현한다. 아래 코드를 완성하고 결과를 출력하여라."
      ],
      "metadata": {
        "id": "SD1c97ovlgIk"
      }
    },
    {
      "cell_type": "code",
      "source": [
        "from qiskit_aer import AerSimulator\n",
        "\n",
        "circuit.measure(qreg_q[0], creg_c[0])\n",
        "circuit.measure(qreg_q[1], creg_c[1])\n",
        "\n",
        " # 아래 내용을 채울 것\n",
        "\n",
        "\n",
        "display(plot_histogram(statistics))"
      ],
      "metadata": {
        "id": "gcor7ZD4i4yO"
      },
      "execution_count": null,
      "outputs": []
    },
    {
      "cell_type": "code",
      "source": [],
      "metadata": {
        "id": "y9G4og18jzEg"
      },
      "execution_count": null,
      "outputs": []
    }
  ]
}