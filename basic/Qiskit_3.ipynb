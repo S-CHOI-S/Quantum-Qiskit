{
  "nbformat": 4,
  "nbformat_minor": 0,
  "metadata": {
    "colab": {
      "provenance": []
    },
    "kernelspec": {
      "name": "python3",
      "display_name": "Python 3"
    },
    "language_info": {
      "name": "python"
    }
  },
  "cells": [
    {
      "cell_type": "markdown",
      "source": [
        "# Qiskit 설치 (colab에서는 새션이 새로 시작될 때, 코랩에서 제공하는 기본 패키지가 아니면, 새로 설치해야 함)!"
      ],
      "metadata": {
        "id": "pN7oG7Yvl--M"
      }
    },
    {
      "cell_type": "code",
      "execution_count": 2,
      "metadata": {
        "id": "eFhsSbjln-2y"
      },
      "outputs": [],
      "source": [
        "from google.colab import output\n",
        "\n",
        "!pip install qiskit\n",
        "!pip install qiskit-ibm-runtime\n",
        "!pip install qiskit[visualization]\n",
        "!pip install qiskit-aer\n",
        "\n",
        "output.clear()"
      ]
    },
    {
      "cell_type": "markdown",
      "source": [
        "# Phase-Flip 에러 정정"
      ],
      "metadata": {
        "id": "1YLPws95Fa_G"
      }
    },
    {
      "cell_type": "code",
      "source": [
        "from qiskit import QuantumCircuit, QuantumRegister, ClassicalRegister\n",
        "from qiskit.visualization import plot_histogram\n",
        "from qiskit_aer import AerSimulator\n",
        "\n",
        "import random\n",
        "\n",
        "error = random.randint(0,2)\n",
        "\n",
        "qreg_q= QuantumRegister(3, 'q')\n",
        "parity_q= QuantumRegister(2,'p')\n",
        "\n",
        "creg_c = ClassicalRegister(2, 'c')\n",
        "circuit = QuantumCircuit(qreg_q, parity_q, creg_c)\n",
        "\n",
        "# Initializaiton\n",
        "\n",
        "n=3\n",
        "circuit.h(range(n))  # 파이썬 range 함수 사용: qc.h(0), qc.h(1), ... qc.h(n) 을 만들어 줌\n",
        "\n",
        "circuit.barrier()\n",
        "\n",
        "\n",
        "\n",
        "circuit.z (qreg_q[error]) # 전송 중 Phase-Flip error 발생\n",
        "\n",
        "circuit.barrier()\n",
        "\n",
        "\n",
        "circuit.h(range(n))\n",
        "\n",
        "circuit.barrier()\n",
        "circuit.cx(qreg_q[0],parity_q[0])\n",
        "circuit.cx(qreg_q[1],parity_q[0])\n",
        "\n",
        "circuit.cx(qreg_q[0],parity_q[1])\n",
        "circuit.cx(qreg_q[2],parity_q[1])\n",
        "circuit.barrier()\n",
        "\n",
        "circuit.h(range(n))  # 파이썬 range 함수 사용: qc.h(0), qc.h(1), ... qc.h(n) 을 만들어 줌\n",
        "\n",
        "\n",
        "circuit.measure(parity_q[0], creg_c[0])\n",
        "circuit.measure(parity_q[1], creg_c[1])\n",
        "\n",
        "result = AerSimulator().run(circuit, shots=1, memory=True).result()\n",
        "measurements = result.get_memory()\n",
        "if measurements[0] == \"00\" :\n",
        "  print('에러가 없음')\n",
        "elif measurements[0] == \"10\" :\n",
        "  print('세번째 큐빗에 에러')\n",
        "  circuit.z(qreg_q[2])\n",
        "elif measurements[0] == \"01\" :\n",
        "  print('두번째 큐빗에 에러')\n",
        "  circuit.z(qreg_q[1])\n",
        "else :\n",
        "  print('첫번째 큐빗에 에러')\n",
        "  circuit.z(qreg_q[0])\n",
        "\n",
        "display(circuit.draw(\"mpl\"))\n"
      ],
      "metadata": {
        "colab": {
          "base_uri": "https://localhost:8080/",
          "height": 466
        },
        "id": "b1aMVUqXFfZv",
        "outputId": "68525cae-1c1f-48d8-9d7e-6f3fb6c50da6"
      },
      "execution_count": 16,
      "outputs": [
        {
          "output_type": "stream",
          "name": "stdout",
          "text": [
            "세번째 큐빗에 에러\n"
          ]
        },
        {
          "output_type": "display_data",
          "data": {
            "text/plain": [
              "<Figure size 1207.22x535.111 with 1 Axes>"
            ],
            "image/png": "[encoded data removed]"
          },
          "metadata": {}
        }
      ]
    },
    {
      "cell_type": "markdown",
      "source": [
        "## 도이치 알고리즘"
      ],
      "metadata": {
        "id": "7fBbxao_onlc"
      }
    },
    {
      "cell_type": "markdown",
      "source": [
        "## 함수 오라클 $F_i$ 를 정의하기"
      ],
      "metadata": {
        "id": "zMmOrdDggmH2"
      }
    },
    {
      "cell_type": "code",
      "source": [
        "from qiskit import QuantumCircuit, QuantumRegister, ClassicalRegister\n",
        "from qiskit.visualization import plot_histogram\n",
        "\n",
        "from qiskit import QuantumCircuit\n",
        "\n",
        "\n",
        "def deutsch_function(case: int):\n",
        "    \"\"\"\n",
        "    Generate a valid Deutsch function as a `QuantumCircuit`.\n",
        "    \"\"\"\n",
        "    if case not in [0, 1, 2, 3]:\n",
        "        raise ValueError(\"`case` must be 0, 1, 2, 3\")\n",
        "\n",
        "    f = QuantumCircuit(2)\n",
        "    if case == 1 : f.cx(0, 1)\n",
        "    elif case == 2 :\n",
        "      f.cx(0,1)\n",
        "      f.x(1)\n",
        "    elif case == 3 : f.x(1)\n",
        "    return f"
      ],
      "metadata": {
        "id": "CxrkbJQGN7r_"
      },
      "execution_count": null,
      "outputs": []
    },
    {
      "cell_type": "code",
      "source": [
        "def deutsch_function(case: int):\n",
        "    \"\"\"\n",
        "    Generate a valid Deutsch function as a `QuantumCircuit`.\n",
        "    \"\"\"\n",
        "    if case not in [0, 1, 2, 3]:\n",
        "        raise ValueError(\"`case` must be 0, 1, 2, 3\")\n",
        "\n",
        "    f = QuantumCircuit(2)\n",
        "    if case in [1, 2]:\n",
        "        f.cx(0, 1)\n",
        "    if case in [2, 3]:\n",
        "        f.x(1)\n",
        "    return f\n"
      ],
      "metadata": {
        "id": "RJAKtsvkdpPr"
      },
      "execution_count": null,
      "outputs": []
    },
    {
      "cell_type": "code",
      "source": [
        "deutsch_function(3).draw(\"mpl\")"
      ],
      "metadata": {
        "colab": {
          "base_uri": "https://localhost:8080/",
          "height": 191
        },
        "id": "RAwQWuQdgPyi",
        "outputId": "90f1ddd9-c24f-49b7-85fc-329c071ab9ad"
      },
      "execution_count": null,
      "outputs": [
        {
          "output_type": "execute_result",
          "data": {
            "text/plain": [
              "<Figure size 203.683x200.667 with 1 Axes>"
            ],
            "image/png": "[encoded data removed]"
          },
          "metadata": {},
          "execution_count": 35
        }
      ]
    },
    {
      "cell_type": "markdown",
      "source": [
        "## 도이치 회로 구성"
      ],
      "metadata": {
        "id": "cJ6lMw4AoLlf"
      }
    },
    {
      "cell_type": "code",
      "source": [
        "def compile_circuit(function: QuantumCircuit):\n",
        "    \"\"\"\n",
        "    Compiles a circuit for use in Deutsch's algorithm.\n",
        "    \"\"\"\n",
        "    n = function.num_qubits - 1  # f-오라클의 큐빗 갯수를 읽음\n",
        "    qc = QuantumCircuit(n + 1, n) # n+1 개의 큐빗과 y 를 제외한 n개의 큐빗에 대한 측정\n",
        "\n",
        "    qc.x(n)\n",
        "    qc.barrier()\n",
        "    qc.h(range(n + 1))  # 파이썬 range 함수 사용: qc.h(0), qc.h(1), ... qc.h(n) 을 만들어 줌\n",
        "\n",
        "    qc.barrier()\n",
        "    qc.compose(function, inplace=True)\n",
        "    qc.barrier()\n",
        "\n",
        "    qc.h(range(n))  # 파이썬 range 함수 사용: qc.h(0), qc.h(1), ... qc.h(n-1) 을 만들어 줌\n",
        "    qc.measure(range(n), range(n)) # 각 i=0,1, ... n-1 까지의 큐빗을 측정하여 클래시컬 비트로 저장\n",
        "\n",
        "    return qc"
      ],
      "metadata": {
        "id": "Ckk8OhGdkhsh"
      },
      "execution_count": null,
      "outputs": []
    },
    {
      "cell_type": "code",
      "source": [
        "i=1\n",
        "\n",
        "compile_circuit(deutsch_function(i) ).draw(\"mpl\")"
      ],
      "metadata": {
        "colab": {
          "base_uri": "https://localhost:8080/",
          "height": 309
        },
        "id": "iXJxadfAnZIl",
        "outputId": "3d04662b-707d-41bf-cfef-4f100f976c6e"
      },
      "execution_count": null,
      "outputs": [
        {
          "output_type": "stream",
          "name": "stderr",
          "text": [
            "/usr/local/lib/python3.10/dist-packages/qiskit/visualization/circuit/matplotlib.py:266: FutureWarning: The default matplotlib drawer scheme will be changed to \"iqp\" in a following release. To silence this warning, specify the current default explicitly as style=\"clifford\", or the new default as style=\"iqp\".\n",
            "  self._style, def_font_ratio = load_style(self._style)\n"
          ]
        },
        {
          "output_type": "execute_result",
          "data": {
            "text/plain": [
              "<Figure size 788.961x284.278 with 1 Axes>"
            ],
            "image/png": "[encoded data removed]"
          },
          "metadata": {},
          "execution_count": 41
        }
      ]
    },
    {
      "cell_type": "markdown",
      "source": [
        "# 도이치 알고리즘 적용"
      ],
      "metadata": {
        "id": "S1Qwah1ryUF_"
      }
    },
    {
      "cell_type": "code",
      "source": [
        "from qiskit_aer import AerSimulator\n",
        "\n",
        "\n",
        "def deutsch_algorithm(function: QuantumCircuit):\n",
        "    \"\"\"\n",
        "    Determine if a Deutsch function is constant or balanced.\n",
        "    \"\"\"\n",
        "    qc = compile_circuit(function)\n",
        "\n",
        "    result = AerSimulator().run(qc, shots=1, memory=True).result()\n",
        "    measurements = result.get_memory()\n",
        "    if measurements[0] == \"0\":\n",
        "        return \"constant\"\n",
        "    return \"balanced\""
      ],
      "metadata": {
        "id": "DMj23JwgyvVA"
      },
      "execution_count": null,
      "outputs": []
    },
    {
      "cell_type": "code",
      "source": [
        "f = deutsch_function(3)\n",
        "display(f.draw(\"mpl\"))\n",
        "deutsch_algorithm(f)"
      ],
      "metadata": {
        "id": "GVQAb5nM_QpV",
        "colab": {
          "base_uri": "https://localhost:8080/",
          "height": 209
        },
        "outputId": "9d5fc480-abe8-4659-8094-4b3d7ee74492"
      },
      "execution_count": null,
      "outputs": [
        {
          "output_type": "display_data",
          "data": {
            "text/plain": [
              "<Figure size 203.683x200.667 with 1 Axes>"
            ],
            "image/png": "[encoded data removed]"
          },
          "metadata": {}
        },
        {
          "output_type": "execute_result",
          "data": {
            "text/plain": [
              "'constant'"
            ],
            "application/vnd.google.colaboratory.intrinsic+json": {
              "type": "string"
            }
          },
          "metadata": {},
          "execution_count": 48
        }
      ]
    },
    {
      "cell_type": "markdown",
      "source": [
        "# 도이치 조사 알고리즘"
      ],
      "metadata": {
        "id": "G-LBZULjJDQk"
      }
    },
    {
      "cell_type": "code",
      "source": [
        "n=2\n",
        "test_qc = QuantumCircuit(n + 1)\n",
        "test_qc.x(2)\n",
        "test_qc.ccx(0,1,2)\n",
        "display(test_qc.draw(\"mpl\"))\n",
        "\n",
        "def results_circuit(function: QuantumCircuit):\n",
        "\n",
        "  output=[]\n",
        "  n = function.num_qubits - 1\n",
        "\n",
        "  def add_cx(qc, bit_string):\n",
        "    for qubit, bit in enumerate(bit_string):\n",
        "      if bit == \"1\":\n",
        "        qc.x(qubit)\n",
        "    return qc\n",
        "\n",
        "  pos_states= range(2**n)\n",
        "  binary = '0'+str(n)+'b'\n",
        "  for state in pos_states:\n",
        "    qc = QuantumCircuit(n + 1, 1)\n",
        "    qc = add_cx(qc, format(state,binary))\n",
        "    qc.compose(function, inplace=True)\n",
        "    qc.measure(n, 0)\n",
        "    result = AerSimulator().run(qc, shots=1, memory=True).result()\n",
        "    measurements = result.get_memory()\n",
        "    output.append(measurements[0])\n",
        "\n",
        "  print(output)\n",
        "\n",
        "results_circuit(test_qc)"
      ],
      "metadata": {
        "colab": {
          "base_uri": "https://localhost:8080/",
          "height": 326
        },
        "id": "-eehkKeEYqdo",
        "outputId": "f51e091b-d4f0-40e7-a344-ddd013bf85eb"
      },
      "execution_count": 98,
      "outputs": [
        {
          "output_type": "stream",
          "name": "stderr",
          "text": [
            "/usr/local/lib/python3.10/dist-packages/qiskit/visualization/circuit/matplotlib.py:266: FutureWarning: The default matplotlib drawer scheme will be changed to \"iqp\" in a following release. To silence this warning, specify the current default explicitly as style=\"clifford\", or the new default as style=\"iqp\".\n",
            "  self._style, def_font_ratio = load_style(self._style)\n"
          ]
        },
        {
          "output_type": "display_data",
          "data": {
            "text/plain": [
              "<Figure size 287.496x284.278 with 1 Axes>"
            ],
            "image/png": "[encoded data removed]"
          },
          "metadata": {}
        },
        {
          "output_type": "stream",
          "name": "stdout",
          "text": [
            "['1', '1', '1', '0']\n"
          ]
        }
      ]
    },
    {
      "cell_type": "markdown",
      "source": [
        "## 함수 F 오라클을 만듬: 임의로 전체 큐빗의 반절을 선택하여 항등함수를 만들지 균형함수를 만들지 선택"
      ],
      "metadata": {
        "id": "JnyWtDivJGtN"
      }
    },
    {
      "cell_type": "code",
      "source": [
        "from qiskit import QuantumCircuit\n",
        "import numpy as np\n",
        "\n",
        "\n",
        "def dj_function(num_qubits):\n",
        "    \"\"\"\n",
        "    Create a random Deutsch-Jozsa function.\n",
        "    \"\"\"\n",
        "\n",
        "    qc = QuantumCircuit(num_qubits + 1)  # 추가큐빗 y 를 고려해야 함.\n",
        "    if np.random.randint(0, 2):\n",
        "        # Flip output qubit with 50% chance\n",
        "        qc.x(num_qubits)\n",
        "    if np.random.randint(0, 2):\n",
        "        # return constant circuit with 50% chance\n",
        "        return qc\n",
        "\n",
        "    # next, choose half the possible input states\n",
        "    on_states = np.random.choice(\n",
        "        range(2**num_qubits),  # numbers to sample from\n",
        "        2**num_qubits // 2,  # number of samples\n",
        "        replace=False,  # makes sure states are only sampled once\n",
        "    )\n",
        "\n",
        "    def add_cx(qc, bit_string):\n",
        "        for qubit, bit in enumerate(reversed(bit_string)):\n",
        "            if bit == \"1\":\n",
        "                qc.x(qubit)\n",
        "        return qc\n",
        "\n",
        "    for state in on_states:\n",
        "        qc.barrier()  # Barriers are added to help visualize how the functions are created. They can safely be removed.\n",
        "        qc = add_cx(qc, f\"{state:0b}\")\n",
        "        qc.mct(list(range(num_qubits)), num_qubits)\n",
        "        qc = add_cx(qc, f\"{state:0b}\")\n",
        "\n",
        "    qc.barrier()\n",
        "\n",
        "    return qc"
      ],
      "metadata": {
        "id": "RmFPIi_8j8Nu"
      },
      "execution_count": 17,
      "outputs": []
    },
    {
      "cell_type": "code",
      "source": [
        "f= dj_function(3)\n",
        "display( f.draw(\"mpl\") )\n",
        "\n",
        "results_circuit(f)"
      ],
      "metadata": {
        "colab": {
          "base_uri": "https://localhost:8080/",
          "height": 391
        },
        "id": "8QDoWgh_lmbL",
        "outputId": "deeab2ac-bc2d-4009-b1e4-7e0bda14fe9e"
      },
      "execution_count": 103,
      "outputs": [
        {
          "output_type": "stream",
          "name": "stderr",
          "text": [
            "<ipython-input-17-a004931233bb>:34: DeprecationWarning: The method ``qiskit.circuit.quantumcircuit.QuantumCircuit.mct()`` is deprecated as of qiskit 0.45.0. It will be removed no earlier than 3 months after the release date. Use QuantumCircuit.mcx as direct replacement.\n",
            "  qc.mct(list(range(num_qubits)), num_qubits)\n"
          ]
        },
        {
          "output_type": "display_data",
          "data": {
            "text/plain": [
              "<Figure size 1374.44x367.889 with 1 Axes>"
            ],
            "image/png": "[encoded data removed]"
          },
          "metadata": {}
        },
        {
          "output_type": "stream",
          "name": "stdout",
          "text": [
            "['1', '0', '0', '1', '0', '0', '1', '1']\n"
          ]
        }
      ]
    },
    {
      "cell_type": "code",
      "source": [
        "def compile_circuit(function: QuantumCircuit):\n",
        "    \"\"\"\n",
        "    Compiles a circuit for use in the Deutsch-Jozsa algorithm.\n",
        "    \"\"\"\n",
        "    n = function.num_qubits - 1\n",
        "    qc = QuantumCircuit(n + 1, n)\n",
        "    qc.x(n)\n",
        "    qc.h(range(n + 1))\n",
        "    qc.compose(function, inplace=True)\n",
        "    qc.h(range(n))\n",
        "    qc.measure(range(n), range(n))\n",
        "    return qc"
      ],
      "metadata": {
        "id": "SO-UmaJqpYpD"
      },
      "execution_count": 104,
      "outputs": []
    },
    {
      "cell_type": "code",
      "source": [
        "from qiskit_aer import AerSimulator\n",
        "\n",
        "\n",
        "def dj_algorithm(function: QuantumCircuit):\n",
        "    \"\"\"\n",
        "    Determine if a Deutsch-Jozsa function is constant or balanced.\n",
        "    \"\"\"\n",
        "    qc = compile_circuit(function)\n",
        "\n",
        "    result = AerSimulator().run(qc, shots=1, memory=True).result()\n",
        "    measurements = result.get_memory()\n",
        "    if \"1\" in measurements[0]:\n",
        "        return \"balanced\"\n",
        "    return \"constant\"\n",
        "\n",
        "dj_algorithm(f)"
      ],
      "metadata": {
        "colab": {
          "base_uri": "https://localhost:8080/",
          "height": 35
        },
        "id": "ghXMdAQfloiN",
        "outputId": "46f152b2-9938-466a-ecd1-3130616e63be"
      },
      "execution_count": 105,
      "outputs": [
        {
          "output_type": "execute_result",
          "data": {
            "text/plain": [
              "'balanced'"
            ],
            "application/vnd.google.colaboratory.intrinsic+json": {
              "type": "string"
            }
          },
          "metadata": {},
          "execution_count": 105
        }
      ]
    },
    {
      "cell_type": "code",
      "source": [],
      "metadata": {
        "id": "IZHZcayqoFwd"
      },
      "execution_count": null,
      "outputs": []
    }
  ]
}