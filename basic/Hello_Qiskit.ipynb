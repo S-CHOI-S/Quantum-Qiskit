{
 "cells": [
  {
   "cell_type": "markdown",
   "metadata": {
    "id": "hMixCE3pn_vs"
   },
   "source": [
    "# Qiskit 설치"
   ]
  },
  {
   "cell_type": "code",
   "execution_count": null,
   "metadata": {
    "id": "eFhsSbjln-2y"
   },
   "outputs": [],
   "source": [
    "!pip install qiskit"
   ]
  },
  {
   "cell_type": "code",
   "execution_count": null,
   "metadata": {
    "id": "p60IY2RooHIB"
   },
   "outputs": [],
   "source": [
    "!pip install qiskit-ibm-runtime"
   ]
  },
  {
   "cell_type": "code",
   "execution_count": null,
   "metadata": {
    "id": "zXazVpnuoIn2"
   },
   "outputs": [],
   "source": [
    "!pip install qiskit[visualization]"
   ]
  },
  {
   "cell_type": "markdown",
   "metadata": {
    "id": "7fBbxao_onlc"
   },
   "source": [
    "## Qiskit이 잘 설치되었는지 아래 코드로 확인"
   ]
  },
  {
   "cell_type": "code",
   "execution_count": null,
   "metadata": {
    "id": "8mpfCag7oKqu"
   },
   "outputs": [],
   "source": [
    "from qiskit import QuantumCircuit\n",
    "\n",
    "# Create a new circuit with two qubits (first argument) and two classical\n",
    "# bits (second argument)\n",
    "qc = QuantumCircuit(2)\n",
    "\n",
    "# Add a Hadamard gate to qubit 0\n",
    "qc.h(0)\n",
    "\n",
    "# Perform a controlled-X gate on qubit 1, controlled by qubit 0\n",
    "qc.cx(0, 1)\n",
    "\n",
    "# Return a drawing of the circuit using MatPlotLib (\"mpl\"). This is the\n",
    "# last line of the cell, so the drawing appears in the cell output.\n",
    "# Remove the \"mpl\" argument to get a text drawing.\n",
    "qc.draw(\"mpl\")"
   ]
  },
  {
   "cell_type": "markdown",
   "metadata": {
    "id": "S1Qwah1ryUF_"
   },
   "source": [
    "### Python의 array로 Qiskit의 Statevector 상태벡터 정의\n",
    "1. $|u \\rangle = \\left(\\frac{1}{\\sqrt{2}}, \\frac{1}{\\sqrt{2}}\\right) $\n",
    "2. $|v \\rangle = \\left(\\frac{1+ 2 i}{3}, -\\frac{2}{3}\\right) $ \n",
    "3. $|w \\rangle = \\left(\\frac{1}{3}, \\frac{2}{3}\\right) $"
   ]
  },
  {
   "cell_type": "code",
   "execution_count": null,
   "metadata": {
    "id": "I9TuSfutoaLj"
   },
   "outputs": [],
   "source": [
    "from qiskit.quantum_info import Statevector\n",
    "from numpy import sqrt\n",
    "\n",
    "u = Statevector([1 / sqrt(2), 1 / sqrt(2)])\n",
    "v = Statevector([(1 + 2.0j) / 3, -2 / 3])\n",
    "w = Statevector([1/3 , 2/3 ])"
   ]
  },
  {
   "cell_type": "code",
   "execution_count": null,
   "metadata": {
    "id": "SYPmvellyqxH"
   },
   "outputs": [],
   "source": [
    "display(u.draw(\"latex\"))\n",
    "display(v.draw(\"latex\"))\n",
    "display(w.draw(\"text\"))"
   ]
  },
  {
   "cell_type": "markdown",
   "metadata": {
    "id": "Yk5MW-Y1zuz0"
   },
   "source": [
    "## 위에서 정의한 상태벡터가 양자상태 벡터인지 확인, 즉 $\\langle \\Psi|\\Psi \\rangle = 1 $ 을 확인\n",
    "1. $\\langle u | u\\rangle = \\left(\\frac{1}{\\sqrt{2}}, \\frac{1}{\\sqrt{2}}\\right)^* \\cdot \\left(\\frac{1}{\\sqrt{2}}, \\frac{1}{\\sqrt{2}}\\right)  = \\frac{1}{2} +\\frac{1}{2}=1$ \\\\\n",
    "2. $\\langle v | v\\rangle = \\left(\\frac{1+ 2 i}{3}, -\\frac{2}{3}\\right)^* \\cdot \\left(\\frac{1+ 2 i}{3}, -\\frac{2}{3}\\right) = \\left(\\frac{1- 2 i}{3}, -\\frac{2}{3}\\right)\\cdot \\left(\\frac{1+ 2 i}{3}, -\\frac{2}{3}\\right)= \\frac{1- 2 i}{3} \\times \\frac{1+ 2 i}{3} + \\left(-\\frac{2}{3}\\right)\\times \\left(-\\frac{2}{3}\\right) =  1$ \\\\\n",
    "3. $\\langle w | w\\rangle = \\left(\\frac{1}{3}, \\frac{2}{3}\\right)^* \\cdot \\left(\\frac{1}{3}, \\frac{2}{3}\\right)  = \\frac{1}{9} +\\frac{4}{9}=\\frac{5}{9} \\neq 1$ \\\\"
   ]
  },
  {
   "cell_type": "code",
   "execution_count": null,
   "metadata": {
    "id": "DMj23JwgyvVA"
   },
   "outputs": [],
   "source": [
    "display(u.is_valid())\n",
    "display(v.is_valid())\n",
    "display(w.is_valid())\n"
   ]
  },
  {
   "cell_type": "code",
   "execution_count": null,
   "metadata": {
    "id": "CkOISsf-1feQ"
   },
   "outputs": [],
   "source": [
    "w.measure()"
   ]
  },
  {
   "cell_type": "markdown",
   "metadata": {
    "id": "hdGS8KAy6Zt5"
   },
   "source": [
    "## 상태벡터 (Statevector)를 측정하기 : Statevector의 내장함수 measure() 는 확률적으로 상태를 측정함"
   ]
  },
  {
   "cell_type": "code",
   "execution_count": null,
   "metadata": {
    "id": "ubaXAuJt1xrQ"
   },
   "outputs": [],
   "source": [
    "u = Statevector([1 / sqrt(2), 1 / sqrt(2)])\n",
    "u.measure()"
   ]
  },
  {
   "cell_type": "code",
   "execution_count": null,
   "metadata": {
    "id": "pe_XB-eh6rF-"
   },
   "outputs": [],
   "source": [
    "loop=[1,2,3]\n",
    "\n",
    "for i in loop:\n",
    "  print(u.measure())"
   ]
  },
  {
   "cell_type": "markdown",
   "metadata": {
    "id": "i7TqxCCd8jvD"
   },
   "source": [
    "### qiskit의 sample_counts 를 활용해서, 측정 확률을 히스토그램으로 표시  \n",
    "$|u \\rangle = \\left(\\frac{1}{\\sqrt{2}}, \\frac{1}{\\sqrt{2}}\\right) $ 의 경우,\n",
    "\n",
    "1. $|0\\rangle$일 확률 $P_0= |\\langle 0|u\\rangle |^2 = \\left(\\frac{1}{\\sqrt{2}}\\right)^2 = \\frac{1}{2}$  \n",
    "2. $|1\\rangle$일 확률 $P_1= |\\langle 1|u\\rangle |^2 = \\left(\\frac{1}{\\sqrt{2}}\\right)^2 = \\frac{1}{2}$"
   ]
  },
  {
   "cell_type": "code",
   "execution_count": null,
   "metadata": {
    "id": "IKMIN6UG6-Ff"
   },
   "outputs": [],
   "source": [
    "from qiskit.visualization import plot_histogram\n",
    "\n",
    "u = Statevector([1 / sqrt(2), 1 / sqrt(2)])\n",
    "display(u.draw(\"latex\"))\n",
    "statistics = u.sample_counts(10000)\n",
    "display(statistics)\n",
    "plot_histogram(statistics)"
   ]
  },
  {
   "cell_type": "markdown",
   "metadata": {
    "id": "I_nA6H3e9q5C"
   },
   "source": [
    "$|v \\rangle = \\left(\\frac{1+ 2 i}{3}, -\\frac{2}{3}\\right) $  의 경우,\n",
    "\n",
    "1. $|0\\rangle$일 확률 $P_0= |\\langle 0|v\\rangle |^2 = \\Big|\\frac{1+2i}{3}\\Big|^2 = \\frac{5}{9}\\approx 0.56$  \n",
    "2. $|1\\rangle$일 확률 $P_1= |\\langle 1|v\\rangle |^2 = \\Big|-\\frac{2}{3}\\Big|^2 = \\frac{4}{9}\\approx 0.44$  "
   ]
  },
  {
   "cell_type": "code",
   "execution_count": null,
   "metadata": {
    "id": "OPX_mN2z8Y30"
   },
   "outputs": [],
   "source": [
    "v = Statevector([(1 + 2.0j) / 3, -2 / 3])\n",
    "display(v.draw(\"latex\"))\n",
    "statistics = v.sample_counts(1000)\n",
    "display(statistics)\n",
    "plot_histogram(statistics)"
   ]
  },
  {
   "cell_type": "markdown",
   "metadata": {
    "id": "r-xWoDlK-6yW"
   },
   "source": [
    "## Python의 2차원 array를 활용한 연산자 (Operator) 정의\n",
    "\n",
    "$X=\n",
    "\\begin{bmatrix}\n",
    "0 & 1\\\\\n",
    "1 & 0\n",
    "\\end{bmatrix}$ ,\n",
    "$Y=\n",
    "\\begin{bmatrix}\n",
    "0 & -I\\\\\n",
    "I & 0\n",
    "\\end{bmatrix}$ ,\n",
    "$Z=\n",
    "\\begin{bmatrix}\n",
    "1 & 0\\\\\n",
    "0 & -1\n",
    "\\end{bmatrix}$ ,\n",
    "$H=\n",
    "\\begin{bmatrix}\n",
    "\\frac{1}{\\sqrt{2}}& \\frac{1}{\\sqrt{2}}\\\\\n",
    "\\frac{1}{\\sqrt{2}} & -\\frac{1}{\\sqrt{2}}\n",
    "\\end{bmatrix}$ ."
   ]
  },
  {
   "cell_type": "code",
   "execution_count": null,
   "metadata": {
    "id": "rJndXnF-8gD-"
   },
   "outputs": [],
   "source": [
    "from qiskit.quantum_info import Operator\n",
    "\n",
    "X = Operator([[0, 1], [1, 0]])\n",
    "Y = Operator([[0, -1.0j], [1.0j, 0]])\n",
    "Z = Operator([[1, 0], [0, -1]])\n",
    "H = Operator([[1 / sqrt(2), 1 / sqrt(2)], [1 / sqrt(2), -1 / sqrt(2)]])\n",
    "\n",
    "v = Statevector([1, 0])\n",
    "v.draw(\"latex\")"
   ]
  },
  {
   "cell_type": "code",
   "execution_count": null,
   "metadata": {
    "id": "AboS4vXM_k04"
   },
   "outputs": [],
   "source": [
    "v1 = v.evolve(X)\n",
    "v2 = v1.evolve(H)\n",
    "v2.draw(\"latex\")"
   ]
  },
  {
   "cell_type": "markdown",
   "metadata": {
    "id": "7dVMmm4aADEZ"
   },
   "source": [
    "## Qiskit 양자회로 (circuit) 내의 기본 연산자들을 활용"
   ]
  },
  {
   "cell_type": "code",
   "execution_count": null,
   "metadata": {
    "id": "qDkvt8hD_8C-"
   },
   "outputs": [],
   "source": [
    "from qiskit import QuantumCircuit\n",
    "\n",
    "circuit = QuantumCircuit(1)\n",
    "\n",
    "circuit.x(0)\n",
    "circuit.h(0)\n",
    "\n",
    "circuit.draw(\"mpl\")"
   ]
  },
  {
   "cell_type": "code",
   "execution_count": null,
   "metadata": {
    "id": "n5boOROhARIN"
   },
   "outputs": [],
   "source": [
    "v = Statevector([1, 0])\n",
    "v = v.evolve(circuit)\n",
    "v.draw(\"latex\")"
   ]
  },
  {
   "cell_type": "code",
   "execution_count": null,
   "metadata": {
    "id": "g-QM0D1BAXhs"
   },
   "outputs": [],
   "source": [
    "statistics = v.sample_counts(4000)\n",
    "plot_histogram(statistics)"
   ]
  },
  {
   "cell_type": "code",
   "execution_count": null,
   "metadata": {
    "id": "rYs50tUUAeAn"
   },
   "outputs": [],
   "source": []
  }
 ],
 "metadata": {
  "colab": {
   "provenance": []
  },
  "kernelspec": {
   "display_name": "Python 3 (ipykernel)",
   "language": "python",
   "name": "python3"
  },
  "language_info": {
   "codemirror_mode": {
    "name": "ipython",
    "version": 3
   },
   "file_extension": ".py",
   "mimetype": "text/x-python",
   "name": "python",
   "nbconvert_exporter": "python",
   "pygments_lexer": "ipython3",
   "version": "3.11.5"
  }
 },
 "nbformat": 4,
 "nbformat_minor": 4
}
